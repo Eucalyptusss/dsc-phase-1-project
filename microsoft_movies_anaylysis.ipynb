{
 "cells": [
  {
   "cell_type": "markdown",
   "metadata": {},
   "source": [
    "   #            Microsoft Movie Recommendation Analysis    #"
   ]
  },
  {
   "attachments": {
    "download.png": {
     "image/png": "[encoded data removed]"
    }
   },
   "cell_type": "markdown",
   "metadata": {},
   "source": [
    "![download.png](attachment:download.png)"
   ]
  },
  {
   "cell_type": "markdown",
   "metadata": {},
   "source": [
    "# __Overview__:\n",
    "\n",
    "This project anaylyzes movie data from the following datasets:__[Box Office Mojo](https://www.boxofficemojo.com/)__, __[IMDB](https://www.imdb.com/)__, __[Rotten Tomatoes](https://www.rottentomatoes.com/)__,__[TheMovieDB](https://www.themoviedb.org/)__,\n",
    "and __[The Numbers](https://www.the-numbers.com/)__. The intention behind investigating this data is to provide executable business strategies for Microsoft's new movie studio. Descriptive analysis of movie data shows that the highest grossing movies have a correlated relationship to movie rating, the length of the movie and the budget of the movie. Microsoft's new studio executives can use this analysis as the framework for making new profitable movies."
   ]
  },
  {
   "cell_type": "markdown",
   "metadata": {},
   "source": [
    "## __Business Problem__:\n",
    "Microsoft is preparing to enter the unfamiliar movie industry. In order to prevent capital loss, I will analyze movie data to see what basic guidelines Microsoft producers/writers should follow to increase profit. \n"
   ]
  },
  {
   "cell_type": "markdown",
   "metadata": {},
   "source": [
    "## Business Value:\n",
    "After analyzing movie data I have discovered a framework for movies that is highly likely to increase the gross revenue."
   ]
  },
  {
   "cell_type": "markdown",
   "metadata": {},
   "source": [
    "## __Data Understanding__:\n",
    "\n",
    "The websites listed above contained 10 usable data sets. From those I used the following four data sets. The data sets provide information on domestic and worldwide gross, movie ratings, production budget, movie length, and other movie details (e.g. release date,etc.)."
   ]
  },
  {
   "cell_type": "markdown",
   "metadata": {},
   "source": [
    "# Obtain"
   ]
  },
  {
   "cell_type": "code",
   "execution_count": 1,
   "metadata": {},
   "outputs": [],
   "source": [
    "import matplotlib.pyplot as plt\n",
    "import seaborn as sns\n",
    "import pandas as pd\n",
    "import numpy as np\n",
    "import matplotlib\n",
    "import matplotlib.pyplot as plt"
   ]
  },
  {
   "cell_type": "code",
   "execution_count": 2,
   "metadata": {},
   "outputs": [],
   "source": [
    "budget_and_profit = pd.read_csv(\"zippedData/tn.movie_budgets.csv.gz\")\n",
    "movie_profits_df = pd.read_csv(\"zippedData/bom.movie_gross.csv.gz\")\n",
    "additional_movie_info_df = pd.read_csv(\"zippedData/imdb.title.basics.csv.gz\")\n",
    "descriptive_movie_info_df = pd.read_csv(\"zippedData/rt.movie_info.tsv.gz\",sep='\\t')"
   ]
  },
  {
   "cell_type": "markdown",
   "metadata": {},
   "source": [
    "# Explore\n",
    "\n",
    "The movie datasets include thousands of movies ranging from 1962 all the way to future films scheduled up to 2026 with titles,dates, profits, and othe relevant information."
   ]
  },
  {
   "cell_type": "code",
   "execution_count": 3,
   "metadata": {},
   "outputs": [
    {
     "data": {
      "text/html": [
       "<div>\n",
       "<style scoped>\n",
       "    .dataframe tbody tr th:only-of-type {\n",
       "        vertical-align: middle;\n",
       "    }\n",
       "\n",
       "    .dataframe tbody tr th {\n",
       "        vertical-align: top;\n",
       "    }\n",
       "\n",
       "    .dataframe thead th {\n",
       "        text-align: right;\n",
       "    }\n",
       "</style>\n",
       "<table border=\"1\" class=\"dataframe\">\n",
       "  <thead>\n",
       "    <tr style=\"text-align: right;\">\n",
       "      <th></th>\n",
       "      <th>id</th>\n",
       "      <th>release_date</th>\n",
       "      <th>movie</th>\n",
       "      <th>production_budget</th>\n",
       "      <th>domestic_gross</th>\n",
       "      <th>worldwide_gross</th>\n",
       "    </tr>\n",
       "  </thead>\n",
       "  <tbody>\n",
       "    <tr>\n",
       "      <th>0</th>\n",
       "      <td>1</td>\n",
       "      <td>Dec 18, 2009</td>\n",
       "      <td>Avatar</td>\n",
       "      <td>$425,000,000</td>\n",
       "      <td>$760,507,625</td>\n",
       "      <td>$2,776,345,279</td>\n",
       "    </tr>\n",
       "    <tr>\n",
       "      <th>1</th>\n",
       "      <td>2</td>\n",
       "      <td>May 20, 2011</td>\n",
       "      <td>Pirates of the Caribbean: On Stranger Tides</td>\n",
       "      <td>$410,600,000</td>\n",
       "      <td>$241,063,875</td>\n",
       "      <td>$1,045,663,875</td>\n",
       "    </tr>\n",
       "  </tbody>\n",
       "</table>\n",
       "</div>"
      ],
      "text/plain": [
       "   id  release_date                                        movie  \\\n",
       "0   1  Dec 18, 2009                                       Avatar   \n",
       "1   2  May 20, 2011  Pirates of the Caribbean: On Stranger Tides   \n",
       "\n",
       "  production_budget domestic_gross worldwide_gross  \n",
       "0      $425,000,000   $760,507,625  $2,776,345,279  \n",
       "1      $410,600,000   $241,063,875  $1,045,663,875  "
      ]
     },
     "execution_count": 3,
     "metadata": {},
     "output_type": "execute_result"
    }
   ],
   "source": [
    "budget_and_profit.head(2)"
   ]
  },
  {
   "cell_type": "code",
   "execution_count": 4,
   "metadata": {},
   "outputs": [
    {
     "data": {
      "text/html": [
       "<div>\n",
       "<style scoped>\n",
       "    .dataframe tbody tr th:only-of-type {\n",
       "        vertical-align: middle;\n",
       "    }\n",
       "\n",
       "    .dataframe tbody tr th {\n",
       "        vertical-align: top;\n",
       "    }\n",
       "\n",
       "    .dataframe thead th {\n",
       "        text-align: right;\n",
       "    }\n",
       "</style>\n",
       "<table border=\"1\" class=\"dataframe\">\n",
       "  <thead>\n",
       "    <tr style=\"text-align: right;\">\n",
       "      <th></th>\n",
       "      <th>title</th>\n",
       "      <th>studio</th>\n",
       "      <th>domestic_gross</th>\n",
       "      <th>foreign_gross</th>\n",
       "      <th>year</th>\n",
       "    </tr>\n",
       "  </thead>\n",
       "  <tbody>\n",
       "    <tr>\n",
       "      <th>0</th>\n",
       "      <td>Toy Story 3</td>\n",
       "      <td>BV</td>\n",
       "      <td>415000000.0</td>\n",
       "      <td>652000000</td>\n",
       "      <td>2010</td>\n",
       "    </tr>\n",
       "    <tr>\n",
       "      <th>1</th>\n",
       "      <td>Alice in Wonderland (2010)</td>\n",
       "      <td>BV</td>\n",
       "      <td>334200000.0</td>\n",
       "      <td>691300000</td>\n",
       "      <td>2010</td>\n",
       "    </tr>\n",
       "  </tbody>\n",
       "</table>\n",
       "</div>"
      ],
      "text/plain": [
       "                        title studio  domestic_gross foreign_gross  year\n",
       "0                 Toy Story 3     BV     415000000.0     652000000  2010\n",
       "1  Alice in Wonderland (2010)     BV     334200000.0     691300000  2010"
      ]
     },
     "execution_count": 4,
     "metadata": {},
     "output_type": "execute_result"
    }
   ],
   "source": [
    "movie_profits_df.head(2)"
   ]
  },
  {
   "cell_type": "code",
   "execution_count": 5,
   "metadata": {},
   "outputs": [
    {
     "data": {
      "text/html": [
       "<div>\n",
       "<style scoped>\n",
       "    .dataframe tbody tr th:only-of-type {\n",
       "        vertical-align: middle;\n",
       "    }\n",
       "\n",
       "    .dataframe tbody tr th {\n",
       "        vertical-align: top;\n",
       "    }\n",
       "\n",
       "    .dataframe thead th {\n",
       "        text-align: right;\n",
       "    }\n",
       "</style>\n",
       "<table border=\"1\" class=\"dataframe\">\n",
       "  <thead>\n",
       "    <tr style=\"text-align: right;\">\n",
       "      <th></th>\n",
       "      <th>tconst</th>\n",
       "      <th>primary_title</th>\n",
       "      <th>original_title</th>\n",
       "      <th>start_year</th>\n",
       "      <th>runtime_minutes</th>\n",
       "      <th>genres</th>\n",
       "    </tr>\n",
       "  </thead>\n",
       "  <tbody>\n",
       "    <tr>\n",
       "      <th>0</th>\n",
       "      <td>tt0063540</td>\n",
       "      <td>Sunghursh</td>\n",
       "      <td>Sunghursh</td>\n",
       "      <td>2013</td>\n",
       "      <td>175.0</td>\n",
       "      <td>Action,Crime,Drama</td>\n",
       "    </tr>\n",
       "    <tr>\n",
       "      <th>1</th>\n",
       "      <td>tt0066787</td>\n",
       "      <td>One Day Before the Rainy Season</td>\n",
       "      <td>Ashad Ka Ek Din</td>\n",
       "      <td>2019</td>\n",
       "      <td>114.0</td>\n",
       "      <td>Biography,Drama</td>\n",
       "    </tr>\n",
       "  </tbody>\n",
       "</table>\n",
       "</div>"
      ],
      "text/plain": [
       "      tconst                    primary_title   original_title  start_year  \\\n",
       "0  tt0063540                        Sunghursh        Sunghursh        2013   \n",
       "1  tt0066787  One Day Before the Rainy Season  Ashad Ka Ek Din        2019   \n",
       "\n",
       "   runtime_minutes              genres  \n",
       "0            175.0  Action,Crime,Drama  \n",
       "1            114.0     Biography,Drama  "
      ]
     },
     "execution_count": 5,
     "metadata": {},
     "output_type": "execute_result"
    }
   ],
   "source": [
    "additional_movie_info_df.head(2)"
   ]
  },
  {
   "cell_type": "code",
   "execution_count": 6,
   "metadata": {},
   "outputs": [
    {
     "data": {
      "text/html": [
       "<div>\n",
       "<style scoped>\n",
       "    .dataframe tbody tr th:only-of-type {\n",
       "        vertical-align: middle;\n",
       "    }\n",
       "\n",
       "    .dataframe tbody tr th {\n",
       "        vertical-align: top;\n",
       "    }\n",
       "\n",
       "    .dataframe thead th {\n",
       "        text-align: right;\n",
       "    }\n",
       "</style>\n",
       "<table border=\"1\" class=\"dataframe\">\n",
       "  <thead>\n",
       "    <tr style=\"text-align: right;\">\n",
       "      <th></th>\n",
       "      <th>id</th>\n",
       "      <th>synopsis</th>\n",
       "      <th>rating</th>\n",
       "      <th>genre</th>\n",
       "      <th>director</th>\n",
       "      <th>writer</th>\n",
       "      <th>theater_date</th>\n",
       "      <th>dvd_date</th>\n",
       "      <th>currency</th>\n",
       "      <th>box_office</th>\n",
       "      <th>runtime</th>\n",
       "      <th>studio</th>\n",
       "    </tr>\n",
       "  </thead>\n",
       "  <tbody>\n",
       "    <tr>\n",
       "      <th>0</th>\n",
       "      <td>1</td>\n",
       "      <td>This gritty, fast-paced, and innovative police...</td>\n",
       "      <td>R</td>\n",
       "      <td>Action and Adventure|Classics|Drama</td>\n",
       "      <td>William Friedkin</td>\n",
       "      <td>Ernest Tidyman</td>\n",
       "      <td>Oct 9, 1971</td>\n",
       "      <td>Sep 25, 2001</td>\n",
       "      <td>NaN</td>\n",
       "      <td>NaN</td>\n",
       "      <td>104 minutes</td>\n",
       "      <td>NaN</td>\n",
       "    </tr>\n",
       "    <tr>\n",
       "      <th>1</th>\n",
       "      <td>3</td>\n",
       "      <td>New York City, not-too-distant-future: Eric Pa...</td>\n",
       "      <td>R</td>\n",
       "      <td>Drama|Science Fiction and Fantasy</td>\n",
       "      <td>David Cronenberg</td>\n",
       "      <td>David Cronenberg|Don DeLillo</td>\n",
       "      <td>Aug 17, 2012</td>\n",
       "      <td>Jan 1, 2013</td>\n",
       "      <td>$</td>\n",
       "      <td>600,000</td>\n",
       "      <td>108 minutes</td>\n",
       "      <td>Entertainment One</td>\n",
       "    </tr>\n",
       "  </tbody>\n",
       "</table>\n",
       "</div>"
      ],
      "text/plain": [
       "   id                                           synopsis rating  \\\n",
       "0   1  This gritty, fast-paced, and innovative police...      R   \n",
       "1   3  New York City, not-too-distant-future: Eric Pa...      R   \n",
       "\n",
       "                                 genre          director  \\\n",
       "0  Action and Adventure|Classics|Drama  William Friedkin   \n",
       "1    Drama|Science Fiction and Fantasy  David Cronenberg   \n",
       "\n",
       "                         writer  theater_date      dvd_date currency  \\\n",
       "0                Ernest Tidyman   Oct 9, 1971  Sep 25, 2001      NaN   \n",
       "1  David Cronenberg|Don DeLillo  Aug 17, 2012   Jan 1, 2013        $   \n",
       "\n",
       "  box_office      runtime             studio  \n",
       "0        NaN  104 minutes                NaN  \n",
       "1    600,000  108 minutes  Entertainment One  "
      ]
     },
     "execution_count": 6,
     "metadata": {},
     "output_type": "execute_result"
    }
   ],
   "source": [
    "descriptive_movie_info_df.head(2)"
   ]
  },
  {
   "cell_type": "markdown",
   "metadata": {},
   "source": [
    "### __Data Preparation__"
   ]
  },
  {
   "cell_type": "code",
   "execution_count": 7,
   "metadata": {},
   "outputs": [],
   "source": [
    "import sys\n",
    "sys.path.append('/Users/johnwelsh/Documents/Flatiron/courseMaterials/phase_1/project_one/dsc-phase-1-project/code')\n",
    "import data_preparation as dp"
   ]
  },
  {
   "cell_type": "markdown",
   "metadata": {},
   "source": [
    "# Scrub"
   ]
  },
  {
   "cell_type": "markdown",
   "metadata": {},
   "source": [
    "### __Data Cleaning__\n",
    "__BOLD__ denotes a __dataframe__\n",
    "\n"
   ]
  },
  {
   "cell_type": "markdown",
   "metadata": {},
   "source": [
    "#### \n",
    "To start I clean the columns of ___budget_and_profit___ so the budget,domestic_gross,and worldwide_gross columns are now integer data types. I do this by setting each column\n",
    "to the function change_cols_to_int() with the own column as the parameter. This function\n",
    "removes the ',' and sets the type as int."
   ]
  },
  {
   "cell_type": "code",
   "execution_count": 8,
   "metadata": {},
   "outputs": [
    {
     "name": "stdout",
     "output_type": "stream",
     "text": [
      "<class 'pandas.core.frame.DataFrame'>\n",
      "RangeIndex: 5782 entries, 0 to 5781\n",
      "Data columns (total 6 columns):\n",
      " #   Column             Non-Null Count  Dtype \n",
      "---  ------             --------------  ----- \n",
      " 0   id                 5782 non-null   int64 \n",
      " 1   release_date       5782 non-null   object\n",
      " 2   movie              5782 non-null   object\n",
      " 3   production_budget  5782 non-null   object\n",
      " 4   domestic_gross     5782 non-null   object\n",
      " 5   worldwide_gross    5782 non-null   object\n",
      "dtypes: int64(1), object(5)\n",
      "memory usage: 271.2+ KB\n"
     ]
    }
   ],
   "source": [
    "budget_and_profit.info()"
   ]
  },
  {
   "cell_type": "code",
   "execution_count": 9,
   "metadata": {},
   "outputs": [],
   "source": [
    "budget_and_profit.production_budget = \\\n",
    "dp.change_cols_to_int(budget_and_profit.production_budget)\n",
    "\n",
    "budget_and_profit.domestic_gross = \\\n",
    "dp.change_cols_to_int(budget_and_profit.domestic_gross)\n",
    "\n",
    "budget_and_profit.worldwide_gross = \\\n",
    "dp.change_cols_to_int(budget_and_profit.worldwide_gross)\n"
   ]
  },
  {
   "cell_type": "code",
   "execution_count": 10,
   "metadata": {},
   "outputs": [
    {
     "name": "stdout",
     "output_type": "stream",
     "text": [
      "<class 'pandas.core.frame.DataFrame'>\n",
      "RangeIndex: 5782 entries, 0 to 5781\n",
      "Data columns (total 6 columns):\n",
      " #   Column             Non-Null Count  Dtype \n",
      "---  ------             --------------  ----- \n",
      " 0   id                 5782 non-null   int64 \n",
      " 1   release_date       5782 non-null   object\n",
      " 2   movie              5782 non-null   object\n",
      " 3   production_budget  5782 non-null   int64 \n",
      " 4   domestic_gross     5782 non-null   int64 \n",
      " 5   worldwide_gross    5782 non-null   int64 \n",
      "dtypes: int64(4), object(2)\n",
      "memory usage: 271.2+ KB\n"
     ]
    }
   ],
   "source": [
    "budget_and_profit.info()"
   ]
  },
  {
   "cell_type": "markdown",
   "metadata": {},
   "source": [
    "#### \n",
    "Then I do the same for __movie_profits_df__. The domestic_gross column\n",
    "is a float type so I clean it without a function. However there are 28 NaN values\n",
    "that I need to deal with first. I discover that these are of the type np.nan i.e\n",
    "float. I decide to replace the NaN values with the mean of the domestic_gross\n",
    "column because the NaN values only take up .0083 of the entire column."
   ]
  },
  {
   "cell_type": "code",
   "execution_count": 11,
   "metadata": {},
   "outputs": [
    {
     "data": {
      "text/plain": [
       "False    3359\n",
       "True       28\n",
       "Name: domestic_gross, dtype: int64"
      ]
     },
     "execution_count": 11,
     "metadata": {},
     "output_type": "execute_result"
    }
   ],
   "source": [
    "movie_profits_df.domestic_gross.isna().value_counts()"
   ]
  },
  {
   "cell_type": "code",
   "execution_count": 12,
   "metadata": {},
   "outputs": [],
   "source": [
    "nan_vals = movie_profits_df.loc[movie_profits_df.domestic_gross.isna()==True]"
   ]
  },
  {
   "cell_type": "code",
   "execution_count": 13,
   "metadata": {},
   "outputs": [],
   "source": [
    "mean = movie_profits_df.domestic_gross.mean()\n",
    "for element in nan_vals.index:\n",
    "    movie_profits_df.domestic_gross = mean\n"
   ]
  },
  {
   "cell_type": "code",
   "execution_count": 14,
   "metadata": {},
   "outputs": [
    {
     "data": {
      "text/plain": [
       "False    3387\n",
       "Name: domestic_gross, dtype: int64"
      ]
     },
     "execution_count": 14,
     "metadata": {},
     "output_type": "execute_result"
    }
   ],
   "source": [
    "movie_profits_df.domestic_gross.isna().value_counts()"
   ]
  },
  {
   "cell_type": "markdown",
   "metadata": {},
   "source": [
    "#### \n",
    "Now that I have replaced the NaN values in movie_profits_df.domestic_gross I need to cast the type to integer. "
   ]
  },
  {
   "cell_type": "code",
   "execution_count": 15,
   "metadata": {},
   "outputs": [
    {
     "name": "stdout",
     "output_type": "stream",
     "text": [
      "<class 'pandas.core.frame.DataFrame'>\n",
      "RangeIndex: 3387 entries, 0 to 3386\n",
      "Data columns (total 5 columns):\n",
      " #   Column          Non-Null Count  Dtype  \n",
      "---  ------          --------------  -----  \n",
      " 0   title           3387 non-null   object \n",
      " 1   studio          3382 non-null   object \n",
      " 2   domestic_gross  3387 non-null   float64\n",
      " 3   foreign_gross   2037 non-null   object \n",
      " 4   year            3387 non-null   int64  \n",
      "dtypes: float64(1), int64(1), object(3)\n",
      "memory usage: 132.4+ KB\n"
     ]
    }
   ],
   "source": [
    "movie_profits_df.info()"
   ]
  },
  {
   "cell_type": "code",
   "execution_count": 16,
   "metadata": {},
   "outputs": [],
   "source": [
    "movie_profits_df.domestic_gross = movie_profits_df.domestic_gross.astype('int64')"
   ]
  },
  {
   "cell_type": "code",
   "execution_count": 17,
   "metadata": {},
   "outputs": [
    {
     "name": "stdout",
     "output_type": "stream",
     "text": [
      "<class 'pandas.core.frame.DataFrame'>\n",
      "RangeIndex: 3387 entries, 0 to 3386\n",
      "Data columns (total 5 columns):\n",
      " #   Column          Non-Null Count  Dtype \n",
      "---  ------          --------------  ----- \n",
      " 0   title           3387 non-null   object\n",
      " 1   studio          3382 non-null   object\n",
      " 2   domestic_gross  3387 non-null   int64 \n",
      " 3   foreign_gross   2037 non-null   object\n",
      " 4   year            3387 non-null   int64 \n",
      "dtypes: int64(2), object(3)\n",
      "memory usage: 132.4+ KB\n"
     ]
    }
   ],
   "source": [
    "movie_profits_df.info()"
   ]
  },
  {
   "cell_type": "markdown",
   "metadata": {},
   "source": [
    "#### \n",
    "Then I found that there are n/a values within movie_profits_df.foreign_gross column. \n",
    "This time there are 1350. So I will remove every index from the dataframe that has\n",
    "a NaN value associated in the foreign_gross column."
   ]
  },
  {
   "cell_type": "code",
   "execution_count": 18,
   "metadata": {},
   "outputs": [
    {
     "data": {
      "text/plain": [
       "False    2037\n",
       "True     1350\n",
       "Name: foreign_gross, dtype: int64"
      ]
     },
     "execution_count": 18,
     "metadata": {},
     "output_type": "execute_result"
    }
   ],
   "source": [
    "movie_profits_df.foreign_gross.isna().value_counts()"
   ]
  },
  {
   "cell_type": "code",
   "execution_count": 19,
   "metadata": {},
   "outputs": [
    {
     "data": {
      "text/html": [
       "<div>\n",
       "<style scoped>\n",
       "    .dataframe tbody tr th:only-of-type {\n",
       "        vertical-align: middle;\n",
       "    }\n",
       "\n",
       "    .dataframe tbody tr th {\n",
       "        vertical-align: top;\n",
       "    }\n",
       "\n",
       "    .dataframe thead th {\n",
       "        text-align: right;\n",
       "    }\n",
       "</style>\n",
       "<table border=\"1\" class=\"dataframe\">\n",
       "  <thead>\n",
       "    <tr style=\"text-align: right;\">\n",
       "      <th></th>\n",
       "      <th>title</th>\n",
       "      <th>studio</th>\n",
       "      <th>domestic_gross</th>\n",
       "      <th>foreign_gross</th>\n",
       "      <th>year</th>\n",
       "    </tr>\n",
       "  </thead>\n",
       "  <tbody>\n",
       "    <tr>\n",
       "      <th>222</th>\n",
       "      <td>Flipped</td>\n",
       "      <td>WB</td>\n",
       "      <td>28745845</td>\n",
       "      <td>NaN</td>\n",
       "      <td>2010</td>\n",
       "    </tr>\n",
       "    <tr>\n",
       "      <th>254</th>\n",
       "      <td>The Polar Express (IMAX re-issue 2010)</td>\n",
       "      <td>WB</td>\n",
       "      <td>28745845</td>\n",
       "      <td>NaN</td>\n",
       "      <td>2010</td>\n",
       "    </tr>\n",
       "  </tbody>\n",
       "</table>\n",
       "</div>"
      ],
      "text/plain": [
       "                                      title studio  domestic_gross  \\\n",
       "222                                 Flipped     WB        28745845   \n",
       "254  The Polar Express (IMAX re-issue 2010)     WB        28745845   \n",
       "\n",
       "    foreign_gross  year  \n",
       "222           NaN  2010  \n",
       "254           NaN  2010  "
      ]
     },
     "execution_count": 19,
     "metadata": {},
     "output_type": "execute_result"
    }
   ],
   "source": [
    "nan_vals = movie_profits_df.loc[movie_profits_df.foreign_gross.isna()==True]\n",
    "nan_vals.head(2)"
   ]
  },
  {
   "cell_type": "code",
   "execution_count": 20,
   "metadata": {},
   "outputs": [],
   "source": [
    "for idx in nan_vals.index:\n",
    "    movie_profits_df.drop([idx],inplace=True)"
   ]
  },
  {
   "cell_type": "code",
   "execution_count": 21,
   "metadata": {},
   "outputs": [
    {
     "data": {
      "text/plain": [
       "False    2037\n",
       "Name: foreign_gross, dtype: int64"
      ]
     },
     "execution_count": 21,
     "metadata": {},
     "output_type": "execute_result"
    }
   ],
   "source": [
    "movie_profits_df.foreign_gross.isna().value_counts()"
   ]
  },
  {
   "cell_type": "markdown",
   "metadata": {},
   "source": [
    "#### \n",
    "Now, I just need to cast the foreign_gross column to an integer. I find that\n",
    "this column has both ',' and '.' with a following decimal value. First I remove\n",
    "the ',' characters because there are not that many of them (5)."
   ]
  },
  {
   "cell_type": "code",
   "execution_count": 22,
   "metadata": {},
   "outputs": [
    {
     "name": "stdout",
     "output_type": "stream",
     "text": [
      "<class 'pandas.core.frame.DataFrame'>\n",
      "Int64Index: 2037 entries, 0 to 3353\n",
      "Data columns (total 5 columns):\n",
      " #   Column          Non-Null Count  Dtype \n",
      "---  ------          --------------  ----- \n",
      " 0   title           2037 non-null   object\n",
      " 1   studio          2033 non-null   object\n",
      " 2   domestic_gross  2037 non-null   int64 \n",
      " 3   foreign_gross   2037 non-null   object\n",
      " 4   year            2037 non-null   int64 \n",
      "dtypes: int64(2), object(3)\n",
      "memory usage: 95.5+ KB\n"
     ]
    }
   ],
   "source": [
    "movie_profits_df.info()"
   ]
  },
  {
   "cell_type": "code",
   "execution_count": 23,
   "metadata": {},
   "outputs": [
    {
     "data": {
      "text/plain": [
       "(5, 5)"
      ]
     },
     "execution_count": 23,
     "metadata": {},
     "output_type": "execute_result"
    }
   ],
   "source": [
    "movie_profits_df.loc[movie_profits_df.foreign_gross.str.contains(',')].shape"
   ]
  },
  {
   "cell_type": "code",
   "execution_count": 24,
   "metadata": {},
   "outputs": [],
   "source": [
    "movie_profits_df.foreign_gross = movie_profits_df.foreign_gross.replace(',','',regex=True)"
   ]
  },
  {
   "cell_type": "code",
   "execution_count": 25,
   "metadata": {},
   "outputs": [
    {
     "data": {
      "text/plain": [
       "(0, 5)"
      ]
     },
     "execution_count": 25,
     "metadata": {},
     "output_type": "execute_result"
    }
   ],
   "source": [
    "movie_profits_df.loc[movie_profits_df.foreign_gross.str.contains(',')].shape"
   ]
  },
  {
   "cell_type": "markdown",
   "metadata": {},
   "source": [
    "#### \n",
    "Then I will remove the decimal and any following digits. Removing the tailing\n",
    "decimals is okay because the value range is in the billions."
   ]
  },
  {
   "cell_type": "code",
   "execution_count": 26,
   "metadata": {},
   "outputs": [
    {
     "data": {
      "text/plain": [
       "(5, 5)"
      ]
     },
     "execution_count": 26,
     "metadata": {},
     "output_type": "execute_result"
    }
   ],
   "source": [
    "movie_profits_df.loc[movie_profits_df.foreign_gross.str[-2]=='.'].shape"
   ]
  },
  {
   "cell_type": "code",
   "execution_count": 27,
   "metadata": {},
   "outputs": [],
   "source": [
    "indices = movie_profits_df.loc[movie_profits_df.foreign_gross.str[-2]=='.'].index\n",
    "for idx in indices:\n",
    "    length = len(movie_profits_df.foreign_gross[idx])\n",
    "    old_val = movie_profits_df.foreign_gross[idx][0:length]\n",
    "    new_val = movie_profits_df.foreign_gross[idx][0:-2]   \n",
    "    movie_profits_df.foreign_gross = \\\n",
    "    movie_profits_df.foreign_gross.replace(old_val,new_val,regex=True)\n",
    "   \n",
    "    "
   ]
  },
  {
   "cell_type": "code",
   "execution_count": 28,
   "metadata": {},
   "outputs": [
    {
     "data": {
      "text/plain": [
       "(0, 5)"
      ]
     },
     "execution_count": 28,
     "metadata": {},
     "output_type": "execute_result"
    }
   ],
   "source": [
    "movie_profits_df.loc[movie_profits_df.foreign_gross.str[-2]=='.'].shape"
   ]
  },
  {
   "cell_type": "markdown",
   "metadata": {},
   "source": [
    "#### \n",
    "Next, I need to cast the movie_profits_df.foreign_gross to integer.\n"
   ]
  },
  {
   "cell_type": "code",
   "execution_count": 29,
   "metadata": {},
   "outputs": [
    {
     "name": "stdout",
     "output_type": "stream",
     "text": [
      "<class 'pandas.core.frame.DataFrame'>\n",
      "Int64Index: 2037 entries, 0 to 3353\n",
      "Data columns (total 5 columns):\n",
      " #   Column          Non-Null Count  Dtype \n",
      "---  ------          --------------  ----- \n",
      " 0   title           2037 non-null   object\n",
      " 1   studio          2033 non-null   object\n",
      " 2   domestic_gross  2037 non-null   int64 \n",
      " 3   foreign_gross   2037 non-null   object\n",
      " 4   year            2037 non-null   int64 \n",
      "dtypes: int64(2), object(3)\n",
      "memory usage: 175.5+ KB\n"
     ]
    }
   ],
   "source": [
    "movie_profits_df.info()"
   ]
  },
  {
   "cell_type": "code",
   "execution_count": 30,
   "metadata": {},
   "outputs": [],
   "source": [
    "movie_profits_df.foreign_gross = movie_profits_df.foreign_gross.astype('int64')"
   ]
  },
  {
   "cell_type": "code",
   "execution_count": 31,
   "metadata": {},
   "outputs": [
    {
     "name": "stdout",
     "output_type": "stream",
     "text": [
      "<class 'pandas.core.frame.DataFrame'>\n",
      "Int64Index: 2037 entries, 0 to 3353\n",
      "Data columns (total 5 columns):\n",
      " #   Column          Non-Null Count  Dtype \n",
      "---  ------          --------------  ----- \n",
      " 0   title           2037 non-null   object\n",
      " 1   studio          2033 non-null   object\n",
      " 2   domestic_gross  2037 non-null   int64 \n",
      " 3   foreign_gross   2037 non-null   int64 \n",
      " 4   year            2037 non-null   int64 \n",
      "dtypes: int64(3), object(2)\n",
      "memory usage: 175.5+ KB\n"
     ]
    }
   ],
   "source": [
    "movie_profits_df.info()"
   ]
  },
  {
   "cell_type": "markdown",
   "metadata": {},
   "source": [
    "#### \n",
    "Then, I aggregate a unique, not NaN, common list of movie titles from both __movie_profits_df__ and __budget_and_profit__. I do this by passing the two dataframes into the list_common_titles() function. This function gets the movie titles that exist in\n",
    "both of the provided dataframes and returns a cleaned list. This list is important\n",
    "because it has a unique list of all the movies in both the dataframes that have \n",
    "valid data for domestic_gross and worldwide_gross i.e. not NaN."
   ]
  },
  {
   "cell_type": "code",
   "execution_count": 32,
   "metadata": {},
   "outputs": [],
   "source": [
    "unique_names = dp.list_common_titles(movie_profits_df,budget_and_profit)"
   ]
  },
  {
   "cell_type": "markdown",
   "metadata": {},
   "source": [
    "#### \n",
    "The data in __additional_movie_info_df__ has movie titles associated with runtime\n",
    "(min) but 31739 of the runtime values are NaN. So, I also make a list of movie \n",
    "titles that have an associated runtime from __additional_movie_info_df__ called better_runtime_titles. I do this by calling the list_of_titles_with_runtime()\n",
    "function which returns a cleaned list of movie titles in the dataframe that have an associated runtime i.e. not NaN.\n",
    "\n"
   ]
  },
  {
   "cell_type": "code",
   "execution_count": 33,
   "metadata": {},
   "outputs": [
    {
     "data": {
      "text/plain": [
       "False    114405\n",
       "True      31739\n",
       "Name: runtime_minutes, dtype: int64"
      ]
     },
     "execution_count": 33,
     "metadata": {},
     "output_type": "execute_result"
    }
   ],
   "source": [
    "additional_movie_info_df.runtime_minutes.isna().value_counts()"
   ]
  },
  {
   "cell_type": "code",
   "execution_count": 34,
   "metadata": {},
   "outputs": [
    {
     "data": {
      "text/plain": [
       "114405"
      ]
     },
     "execution_count": 34,
     "metadata": {},
     "output_type": "execute_result"
    }
   ],
   "source": [
    "better_runtime_titles = dp.list_of_titles_with_runtime(additional_movie_info_df)\n",
    "len(better_runtime_titles)"
   ]
  },
  {
   "cell_type": "markdown",
   "metadata": {},
   "source": [
    "#### \n",
    "Then I take the two lists to make a list of movie titles that have an associated runtime(min),domestic gross, and worldwide gross in a list called known_titles.\n",
    "This new list checks titles that have an associated runtime i.e. better_\n",
    "runtime_titles and if the title is in the list of titles with domestic/worldwide\n",
    "gross i.e. unique_names then it is addedd to known_titles. This means that \n",
    "known_titles is a list of movie titles that have non-NaN values for \n",
    "domestic/worldwide gross and runtime data. "
   ]
  },
  {
   "cell_type": "code",
   "execution_count": 35,
   "metadata": {},
   "outputs": [
    {
     "data": {
      "text/plain": [
       "2765"
      ]
     },
     "execution_count": 35,
     "metadata": {},
     "output_type": "execute_result"
    }
   ],
   "source": [
    "known_titles=[]\n",
    "for title in better_runtime_titles:\n",
    "    \n",
    "    if title in unique_names:\n",
    "        known_titles.append(title)\n",
    "known_titles = list(set(known_titles))\n",
    "len(known_titles)"
   ]
  },
  {
   "cell_type": "markdown",
   "metadata": {},
   "source": [
    "#### \n",
    "After that, I investigate the __descriptive_movie_info_df__ with the intention\n",
    "of comparing box_office amount to rating. I find that the box_office column is\n",
    "a string and there 1220 NaN values. So I remove NaN values, replace the ',' and cast the column type to an integer."
   ]
  },
  {
   "cell_type": "code",
   "execution_count": 36,
   "metadata": {},
   "outputs": [
    {
     "data": {
      "text/plain": [
       "True     1220\n",
       "False     340\n",
       "Name: box_office, dtype: int64"
      ]
     },
     "execution_count": 36,
     "metadata": {},
     "output_type": "execute_result"
    }
   ],
   "source": [
    "descriptive_movie_info_df.box_office.isna().value_counts()"
   ]
  },
  {
   "cell_type": "code",
   "execution_count": 37,
   "metadata": {},
   "outputs": [
    {
     "name": "stdout",
     "output_type": "stream",
     "text": [
      "<class 'pandas.core.frame.DataFrame'>\n",
      "RangeIndex: 1560 entries, 0 to 1559\n",
      "Data columns (total 12 columns):\n",
      " #   Column        Non-Null Count  Dtype \n",
      "---  ------        --------------  ----- \n",
      " 0   id            1560 non-null   int64 \n",
      " 1   synopsis      1498 non-null   object\n",
      " 2   rating        1557 non-null   object\n",
      " 3   genre         1552 non-null   object\n",
      " 4   director      1361 non-null   object\n",
      " 5   writer        1111 non-null   object\n",
      " 6   theater_date  1201 non-null   object\n",
      " 7   dvd_date      1201 non-null   object\n",
      " 8   currency      340 non-null    object\n",
      " 9   box_office    340 non-null    object\n",
      " 10  runtime       1530 non-null   object\n",
      " 11  studio        494 non-null    object\n",
      "dtypes: int64(1), object(11)\n",
      "memory usage: 146.4+ KB\n"
     ]
    }
   ],
   "source": [
    "descriptive_movie_info_df.info()"
   ]
  },
  {
   "cell_type": "code",
   "execution_count": 38,
   "metadata": {},
   "outputs": [],
   "source": [
    "dmi_df=descriptive_movie_info_df.copy()\n",
    "dmi_df=dmi_df.loc[dmi_df.box_office.isna() == False]\n",
    "dmi_df.box_office=dmi_df.box_office.apply(lambda x: int(x.replace(',','')))"
   ]
  },
  {
   "cell_type": "code",
   "execution_count": 39,
   "metadata": {},
   "outputs": [
    {
     "data": {
      "text/plain": [
       "False    340\n",
       "Name: box_office, dtype: int64"
      ]
     },
     "execution_count": 39,
     "metadata": {},
     "output_type": "execute_result"
    }
   ],
   "source": [
    "dmi_df.box_office.isna().value_counts()"
   ]
  },
  {
   "cell_type": "code",
   "execution_count": 40,
   "metadata": {},
   "outputs": [
    {
     "name": "stdout",
     "output_type": "stream",
     "text": [
      "<class 'pandas.core.frame.DataFrame'>\n",
      "Int64Index: 340 entries, 1 to 1555\n",
      "Data columns (total 12 columns):\n",
      " #   Column        Non-Null Count  Dtype \n",
      "---  ------        --------------  ----- \n",
      " 0   id            340 non-null    int64 \n",
      " 1   synopsis      340 non-null    object\n",
      " 2   rating        340 non-null    object\n",
      " 3   genre         340 non-null    object\n",
      " 4   director      299 non-null    object\n",
      " 5   writer        273 non-null    object\n",
      " 6   theater_date  334 non-null    object\n",
      " 7   dvd_date      334 non-null    object\n",
      " 8   currency      340 non-null    object\n",
      " 9   box_office    340 non-null    int64 \n",
      " 10  runtime       338 non-null    object\n",
      " 11  studio        305 non-null    object\n",
      "dtypes: int64(2), object(10)\n",
      "memory usage: 34.5+ KB\n"
     ]
    }
   ],
   "source": [
    "dmi_df.info()"
   ]
  },
  {
   "cell_type": "markdown",
   "metadata": {},
   "source": [
    "#### \n",
    "Now I need to make cleaned version of additional_movie_info_df where there are \n",
    "no NaN values in the runtime_minutes column."
   ]
  },
  {
   "cell_type": "code",
   "execution_count": 41,
   "metadata": {},
   "outputs": [
    {
     "data": {
      "text/plain": [
       "False    114405\n",
       "True      31739\n",
       "Name: runtime_minutes, dtype: int64"
      ]
     },
     "execution_count": 41,
     "metadata": {},
     "output_type": "execute_result"
    }
   ],
   "source": [
    "additional_movie_info_df.runtime_minutes.isna().value_counts()"
   ]
  },
  {
   "cell_type": "code",
   "execution_count": 42,
   "metadata": {},
   "outputs": [],
   "source": [
    "clean_movie_info_df = additional_movie_info_df.dropna()"
   ]
  },
  {
   "cell_type": "code",
   "execution_count": 43,
   "metadata": {},
   "outputs": [
    {
     "data": {
      "text/plain": [
       "False    112232\n",
       "Name: runtime_minutes, dtype: int64"
      ]
     },
     "execution_count": 43,
     "metadata": {},
     "output_type": "execute_result"
    }
   ],
   "source": [
    "clean_movie_info_df.runtime_minutes.isna().value_counts()"
   ]
  },
  {
   "cell_type": "markdown",
   "metadata": {},
   "source": [
    "### __Merging Datasets__\n"
   ]
  },
  {
   "cell_type": "markdown",
   "metadata": {},
   "source": [
    "#### \n",
    " Following up on inspecting the relationship between runtime and domestic/worldwide\n",
    " gross I decide to make a dataframe with the known_titles list. The dataframe \n",
    " has a Title, runtime, domestic_gross, and worldwide_gross columns. I call this\n",
    " data frame __run_df__. After constructing the dataframe with known_titles as the\n",
    " title column I still need to put the relevant values into the other columns.\n",
    " \n",
    " "
   ]
  },
  {
   "cell_type": "code",
   "execution_count": 44,
   "metadata": {},
   "outputs": [],
   "source": [
    "\n",
    "run_df=pd.DataFrame({\n",
    "    'Title':known_titles,\n",
    "    'runtime': None,\n",
    "    'domestic_gross': None,\n",
    "    'worldwide_gross': None\n",
    "  \n",
    "})\n",
    "\n"
   ]
  },
  {
   "cell_type": "code",
   "execution_count": 45,
   "metadata": {},
   "outputs": [
    {
     "data": {
      "text/plain": [
       "2765"
      ]
     },
     "execution_count": 45,
     "metadata": {},
     "output_type": "execute_result"
    }
   ],
   "source": [
    "len(known_titles)"
   ]
  },
  {
   "cell_type": "markdown",
   "metadata": {},
   "source": [
    "#### \n",
    "Now I will fill the columns with the appropriate data. I will start with \n",
    "runtime. First I call construct_runtime_col function(). This function returns\n",
    "a list of movie titles in known_titles and additional_movie_info_df.primary_title.\n",
    "This is where I will use __clean_movie_info_df__. First I assign the list to a value called tester which is a list of data frames. I discover some of the data frames in the list have multiple values because of duplicate title names. To fix this I loop through tester and remove extra rows in the data frames with multiple elements. Then I assign tester.runtime_minutes to __run_df__.runtime and cast each element to an integer.\n"
   ]
  },
  {
   "cell_type": "code",
   "execution_count": 46,
   "metadata": {},
   "outputs": [],
   "source": [
    "tester = dp.construct_runtime_col(clean_movie_info_df, known_titles)"
   ]
  },
  {
   "cell_type": "code",
   "execution_count": 47,
   "metadata": {},
   "outputs": [
    {
     "data": {
      "text/plain": [
       "2761"
      ]
     },
     "execution_count": 47,
     "metadata": {},
     "output_type": "execute_result"
    }
   ],
   "source": [
    "len(tester)"
   ]
  },
  {
   "cell_type": "code",
   "execution_count": 48,
   "metadata": {},
   "outputs": [
    {
     "name": "stdout",
     "output_type": "stream",
     "text": [
      "Elements with '>1' indices:  514\n"
     ]
    },
    {
     "data": {
      "text/html": [
       "<div>\n",
       "<style scoped>\n",
       "    .dataframe tbody tr th:only-of-type {\n",
       "        vertical-align: middle;\n",
       "    }\n",
       "\n",
       "    .dataframe tbody tr th {\n",
       "        vertical-align: top;\n",
       "    }\n",
       "\n",
       "    .dataframe thead th {\n",
       "        text-align: right;\n",
       "    }\n",
       "</style>\n",
       "<table border=\"1\" class=\"dataframe\">\n",
       "  <thead>\n",
       "    <tr style=\"text-align: right;\">\n",
       "      <th></th>\n",
       "      <th>tconst</th>\n",
       "      <th>primary_title</th>\n",
       "      <th>original_title</th>\n",
       "      <th>start_year</th>\n",
       "      <th>runtime_minutes</th>\n",
       "      <th>genres</th>\n",
       "    </tr>\n",
       "  </thead>\n",
       "  <tbody>\n",
       "    <tr>\n",
       "      <th>7063</th>\n",
       "      <td>tt1374992</td>\n",
       "      <td>Upside Down</td>\n",
       "      <td>Upside Down</td>\n",
       "      <td>2012</td>\n",
       "      <td>109.0</td>\n",
       "      <td>Drama,Fantasy,Romance</td>\n",
       "    </tr>\n",
       "    <tr>\n",
       "      <th>28583</th>\n",
       "      <td>tt2105043</td>\n",
       "      <td>Upside Down</td>\n",
       "      <td>Upside Down</td>\n",
       "      <td>2012</td>\n",
       "      <td>81.0</td>\n",
       "      <td>Drama</td>\n",
       "    </tr>\n",
       "    <tr>\n",
       "      <th>87946</th>\n",
       "      <td>tt5105628</td>\n",
       "      <td>Upside Down</td>\n",
       "      <td>Upside Down</td>\n",
       "      <td>2015</td>\n",
       "      <td>70.0</td>\n",
       "      <td>Biography,Documentary,Family</td>\n",
       "    </tr>\n",
       "  </tbody>\n",
       "</table>\n",
       "</div>"
      ],
      "text/plain": [
       "          tconst primary_title original_title  start_year  runtime_minutes  \\\n",
       "7063   tt1374992   Upside Down    Upside Down        2012            109.0   \n",
       "28583  tt2105043   Upside Down    Upside Down        2012             81.0   \n",
       "87946  tt5105628   Upside Down    Upside Down        2015             70.0   \n",
       "\n",
       "                             genres  \n",
       "7063          Drama,Fantasy,Romance  \n",
       "28583                         Drama  \n",
       "87946  Biography,Documentary,Family  "
      ]
     },
     "execution_count": 48,
     "metadata": {},
     "output_type": "execute_result"
    }
   ],
   "source": [
    "#How many elements in tester have >1 indices\n",
    "info = []\n",
    "for element in tester:\n",
    "    if len(element)>1:\n",
    "        info.append(element)\n",
    "print(\"Elements with '>1' indices:  \"+str(len(info)))\n",
    "info[0]\n"
   ]
  },
  {
   "cell_type": "code",
   "execution_count": 49,
   "metadata": {},
   "outputs": [],
   "source": [
    "for el in tester:\n",
    "    #In this level el = a dataframe that may contain multiple elements\n",
    "    if len(el)>1:\n",
    "        counter = 0\n",
    "        indices = el.index\n",
    "        for idx in indices:\n",
    "            if counter == 0:\n",
    "                counter+=1\n",
    "            else:\n",
    "                el.drop([idx],inplace=True)\n",
    "                         \n",
    "            \n",
    "            "
   ]
  },
  {
   "cell_type": "code",
   "execution_count": 50,
   "metadata": {},
   "outputs": [
    {
     "name": "stdout",
     "output_type": "stream",
     "text": [
      "Elements with '>1' indices:  0\n"
     ]
    }
   ],
   "source": [
    "#How many elements in tester have >1 indices\n",
    "info = []\n",
    "for element in tester:\n",
    "    if len(element)>1:\n",
    "        info.append(element)\n",
    "print(\"Elements with '>1' indices:  \"+str(len(info)))\n"
   ]
  },
  {
   "cell_type": "code",
   "execution_count": 51,
   "metadata": {},
   "outputs": [
    {
     "data": {
      "text/plain": [
       "2761"
      ]
     },
     "execution_count": 51,
     "metadata": {},
     "output_type": "execute_result"
    }
   ],
   "source": [
    "len(tester)"
   ]
  },
  {
   "cell_type": "code",
   "execution_count": 52,
   "metadata": {},
   "outputs": [],
   "source": [
    "#Adding tester to run_df.runtime\n",
    "idx = 0\n",
    "for element in tester:\n",
    "    run_df.runtime[idx] = int(element.runtime_minutes)\n",
    "    idx += 1"
   ]
  },
  {
   "cell_type": "code",
   "execution_count": 53,
   "metadata": {},
   "outputs": [
    {
     "data": {
      "text/html": [
       "<div>\n",
       "<style scoped>\n",
       "    .dataframe tbody tr th:only-of-type {\n",
       "        vertical-align: middle;\n",
       "    }\n",
       "\n",
       "    .dataframe tbody tr th {\n",
       "        vertical-align: top;\n",
       "    }\n",
       "\n",
       "    .dataframe thead th {\n",
       "        text-align: right;\n",
       "    }\n",
       "</style>\n",
       "<table border=\"1\" class=\"dataframe\">\n",
       "  <thead>\n",
       "    <tr style=\"text-align: right;\">\n",
       "      <th></th>\n",
       "      <th>Title</th>\n",
       "      <th>runtime</th>\n",
       "      <th>domestic_gross</th>\n",
       "      <th>worldwide_gross</th>\n",
       "    </tr>\n",
       "  </thead>\n",
       "  <tbody>\n",
       "    <tr>\n",
       "      <th>0</th>\n",
       "      <td>When the Bough Breaks</td>\n",
       "      <td>107</td>\n",
       "      <td>None</td>\n",
       "      <td>None</td>\n",
       "    </tr>\n",
       "    <tr>\n",
       "      <th>1</th>\n",
       "      <td>We Need to Talk About Kevin</td>\n",
       "      <td>112</td>\n",
       "      <td>None</td>\n",
       "      <td>None</td>\n",
       "    </tr>\n",
       "  </tbody>\n",
       "</table>\n",
       "</div>"
      ],
      "text/plain": [
       "                         Title runtime domestic_gross worldwide_gross\n",
       "0        When the Bough Breaks     107           None            None\n",
       "1  We Need to Talk About Kevin     112           None            None"
      ]
     },
     "execution_count": 53,
     "metadata": {},
     "output_type": "execute_result"
    }
   ],
   "source": [
    "run_df.head(2)"
   ]
  },
  {
   "cell_type": "markdown",
   "metadata": {},
   "source": [
    "#### \n",
    "Now I will follow a similar process to add the domestic_gross column values.\n",
    "Similar to runtime, I discover 59 elements with more than one row. I will clean\n",
    "them the same way as above."
   ]
  },
  {
   "cell_type": "code",
   "execution_count": 54,
   "metadata": {},
   "outputs": [],
   "source": [
    "tester = dp.construct_gross_col(budget_and_profit, movie_profits_df, known_titles)"
   ]
  },
  {
   "cell_type": "code",
   "execution_count": 55,
   "metadata": {},
   "outputs": [],
   "source": [
    "info = []\n",
    "for el in tester:\n",
    "    if len(el)>1:\n",
    "        info.append(el)"
   ]
  },
  {
   "cell_type": "code",
   "execution_count": 56,
   "metadata": {},
   "outputs": [
    {
     "name": "stdout",
     "output_type": "stream",
     "text": [
      "Elements with '>1' indices:  59\n"
     ]
    },
    {
     "data": {
      "text/html": [
       "<div>\n",
       "<style scoped>\n",
       "    .dataframe tbody tr th:only-of-type {\n",
       "        vertical-align: middle;\n",
       "    }\n",
       "\n",
       "    .dataframe tbody tr th {\n",
       "        vertical-align: top;\n",
       "    }\n",
       "\n",
       "    .dataframe thead th {\n",
       "        text-align: right;\n",
       "    }\n",
       "</style>\n",
       "<table border=\"1\" class=\"dataframe\">\n",
       "  <thead>\n",
       "    <tr style=\"text-align: right;\">\n",
       "      <th></th>\n",
       "      <th>id</th>\n",
       "      <th>release_date</th>\n",
       "      <th>movie</th>\n",
       "      <th>production_budget</th>\n",
       "      <th>domestic_gross</th>\n",
       "      <th>worldwide_gross</th>\n",
       "    </tr>\n",
       "  </thead>\n",
       "  <tbody>\n",
       "    <tr>\n",
       "      <th>96</th>\n",
       "      <td>97</td>\n",
       "      <td>Apr 15, 2016</td>\n",
       "      <td>The Jungle Book</td>\n",
       "      <td>175000000</td>\n",
       "      <td>364001123</td>\n",
       "      <td>962854547</td>\n",
       "    </tr>\n",
       "    <tr>\n",
       "      <th>2095</th>\n",
       "      <td>96</td>\n",
       "      <td>Dec 25, 1994</td>\n",
       "      <td>The Jungle Book</td>\n",
       "      <td>27000000</td>\n",
       "      <td>44342956</td>\n",
       "      <td>44342956</td>\n",
       "    </tr>\n",
       "  </tbody>\n",
       "</table>\n",
       "</div>"
      ],
      "text/plain": [
       "      id  release_date            movie  production_budget  domestic_gross  \\\n",
       "96    97  Apr 15, 2016  The Jungle Book          175000000       364001123   \n",
       "2095  96  Dec 25, 1994  The Jungle Book           27000000        44342956   \n",
       "\n",
       "      worldwide_gross  \n",
       "96          962854547  \n",
       "2095         44342956  "
      ]
     },
     "execution_count": 56,
     "metadata": {},
     "output_type": "execute_result"
    }
   ],
   "source": [
    "print(\"Elements with '>1' indices:  \"+str(len(info)))\n",
    "info[1]"
   ]
  },
  {
   "cell_type": "code",
   "execution_count": 57,
   "metadata": {},
   "outputs": [],
   "source": [
    "count = 0\n",
    "for el in tester:\n",
    "    #In this level el = a dataframe that may contain multiple elements\n",
    "    if len(el)>1:\n",
    "        wu = el.copy()\n",
    "  \n",
    "        counter=0\n",
    "        idx=wu.index\n",
    "        for idx in idx:\n",
    "            if counter ==0:\n",
    "                counter+=1\n",
    "            else:\n",
    "                wu.drop([idx],inplace=True)\n",
    "        tester[count] = wu.copy()\n",
    "        count+=1\n",
    "    else:\n",
    "        count+=1\n",
    "            \n",
    "       \n",
    "                         "
   ]
  },
  {
   "cell_type": "code",
   "execution_count": 58,
   "metadata": {},
   "outputs": [
    {
     "name": "stdout",
     "output_type": "stream",
     "text": [
      "Elements with '>1' indices:  0\n"
     ]
    }
   ],
   "source": [
    "info = []\n",
    "for el in tester:\n",
    "    if len(el)>1:\n",
    "        info.append(el)\n",
    "print(\"Elements with '>1' indices:  \"+str(len(info)))"
   ]
  },
  {
   "cell_type": "code",
   "execution_count": 59,
   "metadata": {},
   "outputs": [],
   "source": [
    "idx = 0\n",
    "for element in tester:\n",
    "    run_df.domestic_gross[idx] = int(element.domestic_gross)\n",
    "    idx += 1"
   ]
  },
  {
   "cell_type": "code",
   "execution_count": 60,
   "metadata": {},
   "outputs": [
    {
     "data": {
      "text/html": [
       "<div>\n",
       "<style scoped>\n",
       "    .dataframe tbody tr th:only-of-type {\n",
       "        vertical-align: middle;\n",
       "    }\n",
       "\n",
       "    .dataframe tbody tr th {\n",
       "        vertical-align: top;\n",
       "    }\n",
       "\n",
       "    .dataframe thead th {\n",
       "        text-align: right;\n",
       "    }\n",
       "</style>\n",
       "<table border=\"1\" class=\"dataframe\">\n",
       "  <thead>\n",
       "    <tr style=\"text-align: right;\">\n",
       "      <th></th>\n",
       "      <th>Title</th>\n",
       "      <th>runtime</th>\n",
       "      <th>domestic_gross</th>\n",
       "      <th>worldwide_gross</th>\n",
       "    </tr>\n",
       "  </thead>\n",
       "  <tbody>\n",
       "    <tr>\n",
       "      <th>0</th>\n",
       "      <td>When the Bough Breaks</td>\n",
       "      <td>107</td>\n",
       "      <td>29747603</td>\n",
       "      <td>None</td>\n",
       "    </tr>\n",
       "    <tr>\n",
       "      <th>1</th>\n",
       "      <td>We Need to Talk About Kevin</td>\n",
       "      <td>112</td>\n",
       "      <td>1738692</td>\n",
       "      <td>None</td>\n",
       "    </tr>\n",
       "    <tr>\n",
       "      <th>2</th>\n",
       "      <td>Upside Down</td>\n",
       "      <td>109</td>\n",
       "      <td>102118</td>\n",
       "      <td>None</td>\n",
       "    </tr>\n",
       "    <tr>\n",
       "      <th>3</th>\n",
       "      <td>Mary Queen of Scots</td>\n",
       "      <td>119</td>\n",
       "      <td>16468499</td>\n",
       "      <td>None</td>\n",
       "    </tr>\n",
       "    <tr>\n",
       "      <th>4</th>\n",
       "      <td>King Arthur: Legend of the Sword</td>\n",
       "      <td>126</td>\n",
       "      <td>39175066</td>\n",
       "      <td>None</td>\n",
       "    </tr>\n",
       "  </tbody>\n",
       "</table>\n",
       "</div>"
      ],
      "text/plain": [
       "                              Title runtime domestic_gross worldwide_gross\n",
       "0             When the Bough Breaks     107       29747603            None\n",
       "1       We Need to Talk About Kevin     112        1738692            None\n",
       "2                       Upside Down     109         102118            None\n",
       "3               Mary Queen of Scots     119       16468499            None\n",
       "4  King Arthur: Legend of the Sword     126       39175066            None"
      ]
     },
     "execution_count": 60,
     "metadata": {},
     "output_type": "execute_result"
    }
   ],
   "source": [
    "run_df.head(5)"
   ]
  },
  {
   "cell_type": "markdown",
   "metadata": {},
   "source": [
    "#### \n",
    "Now I will finish the data frame by constructing the worldwide_gross column.\n",
    "I will do it in the same manner as the above columns. The tester value from\n",
    "above already has the values I need. The only fix I need to account for is\n",
    "that 558 of the dataframe rows in tester have a column foreign_gross while\n",
    "other have worldwide_gross.\n"
   ]
  },
  {
   "cell_type": "code",
   "execution_count": 61,
   "metadata": {},
   "outputs": [
    {
     "name": "stdout",
     "output_type": "stream",
     "text": [
      "558\n"
     ]
    },
    {
     "data": {
      "text/html": [
       "<div>\n",
       "<style scoped>\n",
       "    .dataframe tbody tr th:only-of-type {\n",
       "        vertical-align: middle;\n",
       "    }\n",
       "\n",
       "    .dataframe tbody tr th {\n",
       "        vertical-align: top;\n",
       "    }\n",
       "\n",
       "    .dataframe thead th {\n",
       "        text-align: right;\n",
       "    }\n",
       "</style>\n",
       "<table border=\"1\" class=\"dataframe\">\n",
       "  <thead>\n",
       "    <tr style=\"text-align: right;\">\n",
       "      <th></th>\n",
       "      <th>title</th>\n",
       "      <th>studio</th>\n",
       "      <th>domestic_gross</th>\n",
       "      <th>foreign_gross</th>\n",
       "      <th>year</th>\n",
       "    </tr>\n",
       "  </thead>\n",
       "  <tbody>\n",
       "    <tr>\n",
       "      <th>1661</th>\n",
       "      <td>A Letter to Momo</td>\n",
       "      <td>GK</td>\n",
       "      <td>28745845</td>\n",
       "      <td>6700000</td>\n",
       "      <td>2014</td>\n",
       "    </tr>\n",
       "  </tbody>\n",
       "</table>\n",
       "</div>"
      ],
      "text/plain": [
       "                 title studio  domestic_gross  foreign_gross  year\n",
       "1661  A Letter to Momo     GK        28745845        6700000  2014"
      ]
     },
     "execution_count": 61,
     "metadata": {},
     "output_type": "execute_result"
    }
   ],
   "source": [
    "info = []\n",
    "for el in tester:\n",
    "    if el.columns[-1] != 'worldwide_gross':\n",
    "        info.append(el)\n",
    "print(len(info))\n",
    "info[0]"
   ]
  },
  {
   "cell_type": "code",
   "execution_count": 62,
   "metadata": {},
   "outputs": [
    {
     "data": {
      "text/plain": [
       "'year'"
      ]
     },
     "execution_count": 62,
     "metadata": {},
     "output_type": "execute_result"
    }
   ],
   "source": [
    "tester[2000].columns[-1]"
   ]
  },
  {
   "cell_type": "code",
   "execution_count": 63,
   "metadata": {},
   "outputs": [],
   "source": [
    "idx = 0\n",
    "for element in tester:\n",
    "    if element.columns[-1] == 'worldwide_gross':\n",
    "        run_df.worldwide_gross[idx] = int(element.worldwide_gross)\n",
    "        idx += 1\n",
    "    elif element.columns[-1] == 'foreign_gross':    \n",
    "        run_df.worldwide_gross[idx] = int(element.foreign_gross)\n",
    "        idx += 1\n",
    "    \n",
    "    "
   ]
  },
  {
   "cell_type": "code",
   "execution_count": 64,
   "metadata": {},
   "outputs": [
    {
     "data": {
      "text/html": [
       "<div>\n",
       "<style scoped>\n",
       "    .dataframe tbody tr th:only-of-type {\n",
       "        vertical-align: middle;\n",
       "    }\n",
       "\n",
       "    .dataframe tbody tr th {\n",
       "        vertical-align: top;\n",
       "    }\n",
       "\n",
       "    .dataframe thead th {\n",
       "        text-align: right;\n",
       "    }\n",
       "</style>\n",
       "<table border=\"1\" class=\"dataframe\">\n",
       "  <thead>\n",
       "    <tr style=\"text-align: right;\">\n",
       "      <th></th>\n",
       "      <th>Title</th>\n",
       "      <th>runtime</th>\n",
       "      <th>domestic_gross</th>\n",
       "      <th>worldwide_gross</th>\n",
       "    </tr>\n",
       "  </thead>\n",
       "  <tbody>\n",
       "    <tr>\n",
       "      <th>0</th>\n",
       "      <td>When the Bough Breaks</td>\n",
       "      <td>107</td>\n",
       "      <td>29747603</td>\n",
       "      <td>30768449</td>\n",
       "    </tr>\n",
       "    <tr>\n",
       "      <th>1</th>\n",
       "      <td>We Need to Talk About Kevin</td>\n",
       "      <td>112</td>\n",
       "      <td>1738692</td>\n",
       "      <td>10765283</td>\n",
       "    </tr>\n",
       "    <tr>\n",
       "      <th>2</th>\n",
       "      <td>Upside Down</td>\n",
       "      <td>109</td>\n",
       "      <td>102118</td>\n",
       "      <td>26387039</td>\n",
       "    </tr>\n",
       "    <tr>\n",
       "      <th>3</th>\n",
       "      <td>Mary Queen of Scots</td>\n",
       "      <td>119</td>\n",
       "      <td>16468499</td>\n",
       "      <td>46734733</td>\n",
       "    </tr>\n",
       "    <tr>\n",
       "      <th>4</th>\n",
       "      <td>King Arthur: Legend of the Sword</td>\n",
       "      <td>126</td>\n",
       "      <td>39175066</td>\n",
       "      <td>139630336</td>\n",
       "    </tr>\n",
       "  </tbody>\n",
       "</table>\n",
       "</div>"
      ],
      "text/plain": [
       "                              Title runtime domestic_gross worldwide_gross\n",
       "0             When the Bough Breaks     107       29747603        30768449\n",
       "1       We Need to Talk About Kevin     112        1738692        10765283\n",
       "2                       Upside Down     109         102118        26387039\n",
       "3               Mary Queen of Scots     119       16468499        46734733\n",
       "4  King Arthur: Legend of the Sword     126       39175066       139630336"
      ]
     },
     "execution_count": 64,
     "metadata": {},
     "output_type": "execute_result"
    }
   ],
   "source": [
    "run_df.head()"
   ]
  },
  {
   "cell_type": "markdown",
   "metadata": {},
   "source": [
    "#### \n",
    "I then discover that there are only 2206 valid worldwide_gross vals. So I will\n",
    "remove rows[2207] through row[2764]."
   ]
  },
  {
   "cell_type": "code",
   "execution_count": 65,
   "metadata": {},
   "outputs": [
    {
     "data": {
      "text/html": [
       "<div>\n",
       "<style scoped>\n",
       "    .dataframe tbody tr th:only-of-type {\n",
       "        vertical-align: middle;\n",
       "    }\n",
       "\n",
       "    .dataframe tbody tr th {\n",
       "        vertical-align: top;\n",
       "    }\n",
       "\n",
       "    .dataframe thead th {\n",
       "        text-align: right;\n",
       "    }\n",
       "</style>\n",
       "<table border=\"1\" class=\"dataframe\">\n",
       "  <thead>\n",
       "    <tr style=\"text-align: right;\">\n",
       "      <th></th>\n",
       "      <th>Title</th>\n",
       "      <th>runtime</th>\n",
       "      <th>domestic_gross</th>\n",
       "      <th>worldwide_gross</th>\n",
       "    </tr>\n",
       "  </thead>\n",
       "  <tbody>\n",
       "    <tr>\n",
       "      <th>2760</th>\n",
       "      <td>Holy Rollers</td>\n",
       "      <td>9</td>\n",
       "      <td>28745845</td>\n",
       "      <td>None</td>\n",
       "    </tr>\n",
       "    <tr>\n",
       "      <th>2761</th>\n",
       "      <td>Letters to God</td>\n",
       "      <td>None</td>\n",
       "      <td>2848587</td>\n",
       "      <td>None</td>\n",
       "    </tr>\n",
       "    <tr>\n",
       "      <th>2762</th>\n",
       "      <td>Lean on Pete</td>\n",
       "      <td>None</td>\n",
       "      <td>1163056</td>\n",
       "      <td>None</td>\n",
       "    </tr>\n",
       "    <tr>\n",
       "      <th>2763</th>\n",
       "      <td>The Perfect Match</td>\n",
       "      <td>None</td>\n",
       "      <td>9669521</td>\n",
       "      <td>None</td>\n",
       "    </tr>\n",
       "    <tr>\n",
       "      <th>2764</th>\n",
       "      <td>Suspiria</td>\n",
       "      <td>None</td>\n",
       "      <td>2483472</td>\n",
       "      <td>None</td>\n",
       "    </tr>\n",
       "  </tbody>\n",
       "</table>\n",
       "</div>"
      ],
      "text/plain": [
       "                  Title runtime domestic_gross worldwide_gross\n",
       "2760       Holy Rollers       9       28745845            None\n",
       "2761     Letters to God    None        2848587            None\n",
       "2762       Lean on Pete    None        1163056            None\n",
       "2763  The Perfect Match    None        9669521            None\n",
       "2764           Suspiria    None        2483472            None"
      ]
     },
     "execution_count": 65,
     "metadata": {},
     "output_type": "execute_result"
    }
   ],
   "source": [
    "run_df.tail()"
   ]
  },
  {
   "cell_type": "code",
   "execution_count": 66,
   "metadata": {},
   "outputs": [
    {
     "name": "stdout",
     "output_type": "stream",
     "text": [
      "2203     3237452\n",
      "2204     2455027\n",
      "2205    10182050\n",
      "2206     7034615\n",
      "2207        None\n",
      "2208        None\n",
      "2209        None\n",
      "Name: worldwide_gross, dtype: object\n"
     ]
    }
   ],
   "source": [
    "print(run_df.worldwide_gross[2203:2210])"
   ]
  },
  {
   "cell_type": "code",
   "execution_count": 67,
   "metadata": {},
   "outputs": [],
   "source": [
    "x = range(2207,2765)\n",
    "for idx in x:\n",
    "    run_df.drop([idx],inplace=True)"
   ]
  },
  {
   "cell_type": "code",
   "execution_count": 68,
   "metadata": {},
   "outputs": [
    {
     "data": {
      "text/html": [
       "<div>\n",
       "<style scoped>\n",
       "    .dataframe tbody tr th:only-of-type {\n",
       "        vertical-align: middle;\n",
       "    }\n",
       "\n",
       "    .dataframe tbody tr th {\n",
       "        vertical-align: top;\n",
       "    }\n",
       "\n",
       "    .dataframe thead th {\n",
       "        text-align: right;\n",
       "    }\n",
       "</style>\n",
       "<table border=\"1\" class=\"dataframe\">\n",
       "  <thead>\n",
       "    <tr style=\"text-align: right;\">\n",
       "      <th></th>\n",
       "      <th>Title</th>\n",
       "      <th>runtime</th>\n",
       "      <th>domestic_gross</th>\n",
       "      <th>worldwide_gross</th>\n",
       "    </tr>\n",
       "  </thead>\n",
       "  <tbody>\n",
       "    <tr>\n",
       "      <th>2202</th>\n",
       "      <td>The Zero Theorem</td>\n",
       "      <td>119</td>\n",
       "      <td>28745845</td>\n",
       "      <td>35609577</td>\n",
       "    </tr>\n",
       "    <tr>\n",
       "      <th>2203</th>\n",
       "      <td>Wonder Boys</td>\n",
       "      <td>142</td>\n",
       "      <td>19389454</td>\n",
       "      <td>3237452</td>\n",
       "    </tr>\n",
       "    <tr>\n",
       "      <th>2204</th>\n",
       "      <td>Damsels in Distress</td>\n",
       "      <td>88</td>\n",
       "      <td>1007535</td>\n",
       "      <td>2455027</td>\n",
       "    </tr>\n",
       "    <tr>\n",
       "      <th>2205</th>\n",
       "      <td>Another Happy Day</td>\n",
       "      <td>71</td>\n",
       "      <td>9120</td>\n",
       "      <td>10182050</td>\n",
       "    </tr>\n",
       "    <tr>\n",
       "      <th>2206</th>\n",
       "      <td>I Saw the Devil</td>\n",
       "      <td>120</td>\n",
       "      <td>28745845</td>\n",
       "      <td>7034615</td>\n",
       "    </tr>\n",
       "  </tbody>\n",
       "</table>\n",
       "</div>"
      ],
      "text/plain": [
       "                    Title runtime domestic_gross worldwide_gross\n",
       "2202     The Zero Theorem     119       28745845        35609577\n",
       "2203          Wonder Boys     142       19389454         3237452\n",
       "2204  Damsels in Distress      88        1007535         2455027\n",
       "2205    Another Happy Day      71           9120        10182050\n",
       "2206      I Saw the Devil     120       28745845         7034615"
      ]
     },
     "execution_count": 68,
     "metadata": {},
     "output_type": "execute_result"
    }
   ],
   "source": [
    "run_df.tail()"
   ]
  },
  {
   "cell_type": "markdown",
   "metadata": {},
   "source": [
    "#### \n",
    "The last thing to do is remove zero values. I can assume that a zero value is incorrect\n",
    "So they will only hurt the conclusions. There are 417 of these rows. So after removing\n",
    "these elements there will be 1790 rows left to analyze."
   ]
  },
  {
   "cell_type": "code",
   "execution_count": 69,
   "metadata": {},
   "outputs": [
    {
     "name": "stdout",
     "output_type": "stream",
     "text": [
      "The number of zeros in this column are:237\n"
     ]
    }
   ],
   "source": [
    "print(\"The number of zeros in this column are:\"+\n",
    "      str(run_df.loc[run_df.domestic_gross == 0].shape[0]))\n"
   ]
  },
  {
   "cell_type": "code",
   "execution_count": 70,
   "metadata": {},
   "outputs": [
    {
     "name": "stdout",
     "output_type": "stream",
     "text": [
      "The number of zeros in this column are:204\n"
     ]
    }
   ],
   "source": [
    "print(\"The number of zeros in this column are:\"+\n",
    "      str(run_df.loc[run_df.worldwide_gross == 0].shape[0]))"
   ]
  },
  {
   "cell_type": "code",
   "execution_count": 71,
   "metadata": {},
   "outputs": [
    {
     "name": "stdout",
     "output_type": "stream",
     "text": [
      "The number of zeros in these columns are:23\n"
     ]
    }
   ],
   "source": [
    "print(\"The number of zeros in these columns are:\"+\n",
    "      str(run_df.loc[(run_df.worldwide_gross == 0) & \\\n",
    "          (run_df.domestic_gross == 0)].shape[0]))"
   ]
  },
  {
   "cell_type": "code",
   "execution_count": 72,
   "metadata": {},
   "outputs": [],
   "source": [
    "to_remove = run_df.loc[(run_df.worldwide_gross == 0) & \\\n",
    "          (run_df.domestic_gross == 0)].index\n",
    "for idx in to_remove:\n",
    "    run_df.drop([idx],inplace=True)"
   ]
  },
  {
   "cell_type": "code",
   "execution_count": 73,
   "metadata": {},
   "outputs": [
    {
     "name": "stdout",
     "output_type": "stream",
     "text": [
      "The number of zeros in this column are:0\n"
     ]
    }
   ],
   "source": [
    "print(\"The number of zeros in this column are:\"+\n",
    "      str(run_df.loc[(run_df.worldwide_gross == 0) & \\\n",
    "          (run_df.domestic_gross == 0)].shape[0]))"
   ]
  },
  {
   "cell_type": "code",
   "execution_count": 74,
   "metadata": {},
   "outputs": [
    {
     "name": "stdout",
     "output_type": "stream",
     "text": [
      "The number of zeros in this column are:0\n"
     ]
    }
   ],
   "source": [
    "to_remove = run_df.loc[run_df.domestic_gross == 0].index\n",
    "for idx in to_remove:\n",
    "    run_df.drop([idx],inplace=True)\n",
    "\n",
    "print(\"The number of zeros in this column are:\"+\n",
    "      str(run_df.loc[run_df.domestic_gross == 0].shape[0]))"
   ]
  },
  {
   "cell_type": "code",
   "execution_count": 75,
   "metadata": {},
   "outputs": [
    {
     "data": {
      "text/plain": [
       "(1970, 4)"
      ]
     },
     "execution_count": 75,
     "metadata": {},
     "output_type": "execute_result"
    }
   ],
   "source": [
    "run_df.shape"
   ]
  },
  {
   "cell_type": "code",
   "execution_count": 76,
   "metadata": {},
   "outputs": [
    {
     "data": {
      "text/html": [
       "<div>\n",
       "<style scoped>\n",
       "    .dataframe tbody tr th:only-of-type {\n",
       "        vertical-align: middle;\n",
       "    }\n",
       "\n",
       "    .dataframe tbody tr th {\n",
       "        vertical-align: top;\n",
       "    }\n",
       "\n",
       "    .dataframe thead th {\n",
       "        text-align: right;\n",
       "    }\n",
       "</style>\n",
       "<table border=\"1\" class=\"dataframe\">\n",
       "  <thead>\n",
       "    <tr style=\"text-align: right;\">\n",
       "      <th></th>\n",
       "      <th>Title</th>\n",
       "      <th>runtime</th>\n",
       "      <th>domestic_gross</th>\n",
       "      <th>worldwide_gross</th>\n",
       "    </tr>\n",
       "  </thead>\n",
       "  <tbody>\n",
       "    <tr>\n",
       "      <th>0</th>\n",
       "      <td>When the Bough Breaks</td>\n",
       "      <td>107</td>\n",
       "      <td>29747603</td>\n",
       "      <td>30768449</td>\n",
       "    </tr>\n",
       "    <tr>\n",
       "      <th>1</th>\n",
       "      <td>We Need to Talk About Kevin</td>\n",
       "      <td>112</td>\n",
       "      <td>1738692</td>\n",
       "      <td>10765283</td>\n",
       "    </tr>\n",
       "    <tr>\n",
       "      <th>2</th>\n",
       "      <td>Upside Down</td>\n",
       "      <td>109</td>\n",
       "      <td>102118</td>\n",
       "      <td>26387039</td>\n",
       "    </tr>\n",
       "  </tbody>\n",
       "</table>\n",
       "</div>"
      ],
      "text/plain": [
       "                         Title runtime domestic_gross worldwide_gross\n",
       "0        When the Bough Breaks     107       29747603        30768449\n",
       "1  We Need to Talk About Kevin     112        1738692        10765283\n",
       "2                  Upside Down     109         102118        26387039"
      ]
     },
     "execution_count": 76,
     "metadata": {},
     "output_type": "execute_result"
    }
   ],
   "source": [
    "run_df.head(3)"
   ]
  },
  {
   "cell_type": "markdown",
   "metadata": {},
   "source": [
    "#### \n",
    "Lastly, I cast all of the types into integers."
   ]
  },
  {
   "cell_type": "code",
   "execution_count": 77,
   "metadata": {},
   "outputs": [
    {
     "name": "stdout",
     "output_type": "stream",
     "text": [
      "<class 'pandas.core.frame.DataFrame'>\n",
      "Int64Index: 1970 entries, 0 to 2206\n",
      "Data columns (total 4 columns):\n",
      " #   Column           Non-Null Count  Dtype \n",
      "---  ------           --------------  ----- \n",
      " 0   Title            1970 non-null   object\n",
      " 1   runtime          1970 non-null   object\n",
      " 2   domestic_gross   1970 non-null   object\n",
      " 3   worldwide_gross  1970 non-null   object\n",
      "dtypes: object(4)\n",
      "memory usage: 77.0+ KB\n"
     ]
    }
   ],
   "source": [
    "run_df.info()"
   ]
  },
  {
   "cell_type": "code",
   "execution_count": 78,
   "metadata": {},
   "outputs": [],
   "source": [
    "run_df.runtime = run_df.runtime.astype('int64')\n",
    "run_df.domestic_gross = run_df.domestic_gross.astype('int64')\n",
    "run_df.worldwide_gross = run_df.worldwide_gross.astype('int64')"
   ]
  },
  {
   "cell_type": "code",
   "execution_count": 79,
   "metadata": {},
   "outputs": [
    {
     "name": "stdout",
     "output_type": "stream",
     "text": [
      "<class 'pandas.core.frame.DataFrame'>\n",
      "Int64Index: 1970 entries, 0 to 2206\n",
      "Data columns (total 4 columns):\n",
      " #   Column           Non-Null Count  Dtype \n",
      "---  ------           --------------  ----- \n",
      " 0   Title            1970 non-null   object\n",
      " 1   runtime          1970 non-null   int64 \n",
      " 2   domestic_gross   1970 non-null   int64 \n",
      " 3   worldwide_gross  1970 non-null   int64 \n",
      "dtypes: int64(3), object(1)\n",
      "memory usage: 77.0+ KB\n"
     ]
    }
   ],
   "source": [
    "run_df.info()"
   ]
  },
  {
   "cell_type": "markdown",
   "metadata": {},
   "source": [
    "### __Feature Engineering__\n"
   ]
  },
  {
   "cell_type": "markdown",
   "metadata": {},
   "source": [
    "#### \n",
    "The first features I prepare are average domestic and worldwide gross values\n",
    "in the __run_df__. I get the averages based on runtime in 10 minute intervals\n",
    "starting with 30 and ending at 200. I do this by calling the function populate_average_world().\n",
    "The function is only a few lines of code so I put the code in comments below. Basically,\n",
    "the function returns the mean of a loc statement checking for runtime movies within\n",
    "[count:count+60]. I have another function called populate_average_dom() that does\n",
    "the same thing but for domestic gross values. Then I set the list index to the\n",
    "x-axis labels I will use during visualization."
   ]
  },
  {
   "cell_type": "code",
   "execution_count": 80,
   "metadata": {},
   "outputs": [],
   "source": [
    "index = ['>60','[60-120)','[120,180)']"
   ]
  },
  {
   "cell_type": "code",
   "execution_count": 81,
   "metadata": {},
   "outputs": [],
   "source": [
    "avg_world = dp.populate_average_world(run_df,60)\n",
    "avg_dom = dp.populate_average_dom(run_df,60)\n",
    "\n",
    "\n",
    "\n",
    "#average = []\n",
    "#    i = start_val\n",
    "#    while i != 200:\n",
    "#        average.append( df.loc[(df.runtime>=i) & (df.runtime<i+10)].\\\n",
    "#    worldwide_gross.mean())\n",
    "#        i+=10\n",
    "    \n",
    "#    return average[0:16]"
   ]
  },
  {
   "cell_type": "markdown",
   "metadata": {},
   "source": [
    "#### \n",
    "Next, I get the average box_office value based on rating using the loc statement."
   ]
  },
  {
   "cell_type": "code",
   "execution_count": 82,
   "metadata": {},
   "outputs": [],
   "source": [
    "\n",
    "r = dmi_df.loc[dmi_df.rating=='R'].box_office.mean()\n",
    "\n",
    "pg_13 = dmi_df.loc[dmi_df.rating=='PG-13'].box_office.mean()\n",
    "\n",
    "pg = dmi_df.loc[dmi_df.rating=='PG'].box_office.mean()\n",
    "\n",
    "g =  dmi_df.loc[dmi_df.rating=='G'].box_office.mean()"
   ]
  },
  {
   "cell_type": "markdown",
   "metadata": {},
   "source": [
    "## __Analysis__\n"
   ]
  },
  {
   "cell_type": "code",
   "execution_count": 83,
   "metadata": {},
   "outputs": [],
   "source": [
    "import visualizations as viz"
   ]
  },
  {
   "cell_type": "markdown",
   "metadata": {},
   "source": [
    "### __Budget__\n"
   ]
  },
  {
   "cell_type": "markdown",
   "metadata": {},
   "source": [
    "#### \n",
    "The first thing I investigate is the relationship between production budget\n",
    "and domestic/worldwide gross. I only need __budget_and_profit__. First I call\n",
    "the function budget_corr which returns the correlation between production_budget\n",
    "and domestic/worldwide gross. Then I plot two scatter plots showing the relationships.\n"
   ]
  },
  {
   "cell_type": "code",
   "execution_count": 84,
   "metadata": {},
   "outputs": [
    {
     "data": {
      "text/plain": [
       "domestic_gross     0.685682\n",
       "worldwide_gross    0.748306\n",
       "Name: production_budget, dtype: float64"
      ]
     },
     "execution_count": 84,
     "metadata": {},
     "output_type": "execute_result"
    }
   ],
   "source": [
    "viz.budget_corr(budget_and_profit)"
   ]
  },
  {
   "cell_type": "code",
   "execution_count": 85,
   "metadata": {},
   "outputs": [
    {
     "data": {
      "text/plain": [
       "Text(0.5, 1.0, 'Domestic Gross vs Production Budget')"
      ]
     },
     "execution_count": 85,
     "metadata": {},
     "output_type": "execute_result"
    },
    {
     "data": {
      "image/png": "[encoded data removed]",
      "text/plain": [
       "<Figure size 864x432 with 1 Axes>"
      ]
     },
     "metadata": {
      "needs_background": "light"
     },
     "output_type": "display_data"
    }
   ],
   "source": [
    "ax=budget_and_profit.plot.scatter(x='domestic_gross',y = 'production_budget',\\\n",
    "                                 figsize=(12,6))\n",
    "ax.xaxis.set_major_formatter(dp.format_num)\n",
    "ax.yaxis.set_major_formatter(dp.format_num)\n",
    "ax.set_title('Domestic Gross vs Production Budget')"
   ]
  },
  {
   "cell_type": "code",
   "execution_count": 86,
   "metadata": {},
   "outputs": [
    {
     "data": {
      "text/plain": [
       "Text(0.5, 1.0, 'Worldwide Gross vs Production Budget')"
      ]
     },
     "execution_count": 86,
     "metadata": {},
     "output_type": "execute_result"
    },
    {
     "data": {
      "image/png": "[encoded data removed]",
      "text/plain": [
       "<Figure size 864x432 with 1 Axes>"
      ]
     },
     "metadata": {
      "needs_background": "light"
     },
     "output_type": "display_data"
    }
   ],
   "source": [
    "ax = budget_and_profit.plot.scatter(x='worldwide_gross',y = 'production_budget',\\\n",
    "                                 figsize=(12,6))\n",
    "ax.xaxis.set_major_formatter(dp.format_num)\n",
    "ax.yaxis.set_major_formatter(dp.format_num)\n",
    "ax.set_title('Worldwide Gross vs Production Budget')"
   ]
  },
  {
   "cell_type": "markdown",
   "metadata": {},
   "source": [
    "### __Runtime__\n"
   ]
  },
  {
   "cell_type": "markdown",
   "metadata": {},
   "source": [
    "#### \n",
    "First I plot all of the data points in run_df to get an idea of possible findings."
   ]
  },
  {
   "cell_type": "code",
   "execution_count": 87,
   "metadata": {},
   "outputs": [
    {
     "data": {
      "text/plain": [
       "Text(0.5, 1.0, 'Runtime vs Worldwide Gross ')"
      ]
     },
     "execution_count": 87,
     "metadata": {},
     "output_type": "execute_result"
    },
    {
     "data": {
      "image/png": "[encoded data removed]",
      "text/plain": [
       "<Figure size 432x288 with 1 Axes>"
      ]
     },
     "metadata": {
      "needs_background": "light"
     },
     "output_type": "display_data"
    }
   ],
   "source": [
    "x_lab= \"Runtime(min)\"\n",
    "ax = run_df.plot.scatter(x='runtime',y='worldwide_gross')\n",
    "ax.yaxis.set_major_formatter(dp.format_num)\n",
    "ax.set_xlabel(x_lab)\n",
    "ax.set_title(\"Runtime vs Worldwide Gross \")"
   ]
  },
  {
   "cell_type": "markdown",
   "metadata": {},
   "source": [
    "#### \n",
    "I do the same for domestic gross."
   ]
  },
  {
   "cell_type": "code",
   "execution_count": 88,
   "metadata": {
    "scrolled": true
   },
   "outputs": [
    {
     "data": {
      "text/plain": [
       "Text(0.5, 1.0, 'Runtime vs Domestic Gross ')"
      ]
     },
     "execution_count": 88,
     "metadata": {},
     "output_type": "execute_result"
    },
    {
     "data": {
      "image/png": "[encoded data removed]",
      "text/plain": [
       "<Figure size 432x288 with 1 Axes>"
      ]
     },
     "metadata": {
      "needs_background": "light"
     },
     "output_type": "display_data"
    }
   ],
   "source": [
    "ax = run_df.plot.scatter(x='runtime',y='domestic_gross')\n",
    "ax.yaxis.set_major_formatter(dp.format_num)\n",
    "ax.set_xlabel(x_lab)\n",
    "ax.set_title(\"Runtime vs Domestic Gross \")"
   ]
  },
  {
   "cell_type": "markdown",
   "metadata": {},
   "source": [
    "#### \n",
    "The bins in the bar chart below were constructed in  the feature engineering section."
   ]
  },
  {
   "cell_type": "code",
   "execution_count": 89,
   "metadata": {},
   "outputs": [
    {
     "data": {
      "image/png": "[encoded data removed]",
      "text/plain": [
       "<Figure size 1440x720 with 1 Axes>"
      ]
     },
     "metadata": {
      "needs_background": "light"
     },
     "output_type": "display_data"
    }
   ],
   "source": [
    "viz.run_avg(avg_world,avg_dom,index)"
   ]
  },
  {
   "cell_type": "markdown",
   "metadata": {},
   "source": [
    "#### __Rating__\n",
    "\n",
    "The rating of the movie also can help gurantee that profits are made. This makes sense because\n",
    "PG-13 movies are more likely to be appealing to all ages."
   ]
  },
  {
   "cell_type": "code",
   "execution_count": 90,
   "metadata": {},
   "outputs": [
    {
     "data": {
      "image/png": "[encoded data removed]",
      "text/plain": [
       "<Figure size 432x288 with 1 Axes>"
      ]
     },
     "metadata": {
      "needs_background": "light"
     },
     "output_type": "display_data"
    }
   ],
   "source": [
    " viz.rating_bar(r,pg_13,pg,g)"
   ]
  },
  {
   "cell_type": "markdown",
   "metadata": {},
   "source": [
    "# __Conclusions__\n",
    "\n",
    "This analysis leads to three business recommendations for creating a profitable movie at Microsoft Studios:\n",
    "\n",
    " __Make the production budget at least 200M.__ While this does not guarantee a successful movie, people are drawn toward higher quality films more often than not.\n",
    "\n",
    " __Make the movie 60-120 minutes long.__ \n",
    " \n",
    " __Make family friendly movies. i.e rated PG-13 or PG.__ This will result in a higher box office because there is a larger target audience.\n"
   ]
  },
  {
   "cell_type": "markdown",
   "metadata": {},
   "source": [
    "# Future Work\n",
    "\n",
    "Further analyses could yield additional insights to further improve operations at Microsoft Studios:\n",
    "\n",
    "- __Repeating the results from above but based on genre would give insight into which genres Microsoft  should invest  in__ \n",
    "\n",
    "\n",
    "\n",
    "- __An investigation into the relationship between actors involved in the movies and the gross revenue would provide Microsoft an informed recommendation about who to cast.__ \n"
   ]
  },
  {
   "cell_type": "code",
   "execution_count": null,
   "metadata": {},
   "outputs": [],
   "source": []
  }
 ],
 "metadata": {
  "kernelspec": {
   "display_name": "Python (learn-env)",
   "language": "python",
   "name": "learn-env"
  },
  "language_info": {
   "codemirror_mode": {
    "name": "ipython",
    "version": 3
   },
   "file_extension": ".py",
   "mimetype": "text/x-python",
   "name": "python",
   "nbconvert_exporter": "python",
   "pygments_lexer": "ipython3",
   "version": "3.8.5"
  },
  "toc": {
   "base_numbering": 1,
   "nav_menu": {},
   "number_sections": true,
   "sideBar": true,
   "skip_h1_title": false,
   "title_cell": "Table of Contents",
   "title_sidebar": "Contents",
   "toc_cell": false,
   "toc_position": {},
   "toc_section_display": true,
   "toc_window_display": false
  }
 },
 "nbformat": 4,
 "nbformat_minor": 4
}
